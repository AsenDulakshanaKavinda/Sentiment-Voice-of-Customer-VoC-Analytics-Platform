{
 "cells": [
  {
   "cell_type": "code",
   "execution_count": 2,
   "id": "7d227cd6",
   "metadata": {},
   "outputs": [],
   "source": [
    "import re\n",
    "from langdetect import detect\n",
    "import uuid\n",
    "from datetime import datetime, UTC\n",
    "import pandas as pd"
   ]
  },
  {
   "cell_type": "code",
   "execution_count": 3,
   "id": "22091110",
   "metadata": {},
   "outputs": [],
   "source": [
    "# read data \n",
    "file_path = \"../data/raw/sentiment140.csv\"\n",
    "df = pd.read_csv(file_path)"
   ]
  },
  {
   "cell_type": "code",
   "execution_count": 4,
   "id": "f8a15663",
   "metadata": {},
   "outputs": [],
   "source": [
    "PII_RE = [\n",
    "    re.compile(r\"\\b[\\w.-]+?@\\w+?\\.\\w{2,4}\\b\"), # email\n",
    "    re.compile(r\"\\b(?:\\+?\\d{1,3})?[-.\\s]?(?:\\d{2,4}[-.\\s]?){2,}\\d{2,4}\\b\"), # phone\n",
    "    re.compile(r'https?://\\S+|www\\.\\S+')\n",
    "]\n",
    "\n",
    "def redact_pii(text: str) -> str:\n",
    "    for r in PII_RE:\n",
    "        text = r.sub(\"[REDACTED]\", text) # replace email, phone number, link with [REDACTED] with\n",
    "    return text\n",
    "\n",
    "def simple_clean(text: str) -> str:\n",
    "    text = text.replace(\"\\n\", \" \").strip() # replace new line with \" \"\n",
    "    text = re.sub(r\"\\s+\", \" \", text) # whitespace to \" \"\n",
    "    return text\n",
    "\n",
    "def preprocess_record(raw_text: str, source=\"unknown\", label=None):\n",
    "    text = redact_pii(raw_text)\n",
    "    text = simple_clean(text)\n",
    "\n",
    "    try:\n",
    "        lang = detect(text)\n",
    "    except Exception:\n",
    "        lang = \"unknow\"\n",
    "    rec = {\n",
    "        \"id\": str(uuid.uuid4()),\n",
    "        \"source\": source,\n",
    "        \"text\": raw_text,\n",
    "        \"clean_text\": text.lower(),\n",
    "        \"lang\": lang,\n",
    "        \"sentiment\": None if label is None else (\"negative\" if label==0 else \"positive\"),\n",
    "        \"label\": label,\n",
    "        \"timestamp\": datetime.now(UTC).strftime('%Y-%m-%dT%H:%M:%SZ'),\n",
    "        \"metadata\": {}\n",
    "    }\n",
    "    return rec\n",
    "\n"
   ]
  },
  {
   "cell_type": "code",
   "execution_count": 5,
   "id": "4f692e98",
   "metadata": {},
   "outputs": [],
   "source": [
    "test_raw_pos = df.iloc[1597998:-1, :]\n"
   ]
  },
  {
   "cell_type": "code",
   "execution_count": 6,
   "metadata": {},
   "outputs": [],
   "source": [
    "test_raw_neg = df.iloc[0:2000, :]\n"
   ]
  },
  {
   "cell_type": "code",
   "execution_count": 7,
   "metadata": {},
   "outputs": [
    {
     "name": "stdout",
     "output_type": "stream",
     "text": [
      "(4000, 6)\n"
     ]
    }
   ],
   "source": [
    "test_df = pd.concat([test_raw_neg, test_raw_pos])\n",
    "test_df = test_df.rename(columns={\n",
    "    test_df.columns[0]: \"Target\",\n",
    "    test_df.columns[1]: \"ID\",\n",
    "    test_df.columns[2]: \"Time\",\n",
    "    test_df.columns[3]: \"Query\",\n",
    "    test_df.columns[4]: \"User\",\n",
    "    test_df.columns[5]: \"Tweet\"\n",
    "\n",
    "})\n",
    "print(test_df.shape)"
   ]
  },
  {
   "cell_type": "code",
   "execution_count": 8,
   "id": "ec0c591e",
   "metadata": {},
   "outputs": [],
   "source": [
    "test_df = test_df.rename(columns={\n",
    "    test_df.columns[0]: \"Target\",\n",
    "    test_df.columns[1]: \"ID\",\n",
    "    test_df.columns[2]: \"Time\",\n",
    "    test_df.columns[3]: \"Query\",\n",
    "    test_df.columns[4]: \"User\",\n",
    "    test_df.columns[5]: \"Tweet\"\n",
    "\n",
    "})"
   ]
  },
  {
   "cell_type": "code",
   "execution_count": 9,
   "id": "637cae34",
   "metadata": {},
   "outputs": [],
   "source": [
    "test_df['Target'] = test_df['Target'].replace(4, 1)"
   ]
  },
  {
   "cell_type": "code",
   "execution_count": 10,
   "id": "610c1fe8",
   "metadata": {},
   "outputs": [
    {
     "data": {
      "text/html": [
       "<div>\n",
       "<style scoped>\n",
       "    .dataframe tbody tr th:only-of-type {\n",
       "        vertical-align: middle;\n",
       "    }\n",
       "\n",
       "    .dataframe tbody tr th {\n",
       "        vertical-align: top;\n",
       "    }\n",
       "\n",
       "    .dataframe thead th {\n",
       "        text-align: right;\n",
       "    }\n",
       "</style>\n",
       "<table border=\"1\" class=\"dataframe\">\n",
       "  <thead>\n",
       "    <tr style=\"text-align: right;\">\n",
       "      <th></th>\n",
       "      <th>Target</th>\n",
       "      <th>ID</th>\n",
       "      <th>Time</th>\n",
       "      <th>Query</th>\n",
       "      <th>User</th>\n",
       "      <th>Tweet</th>\n",
       "    </tr>\n",
       "  </thead>\n",
       "  <tbody>\n",
       "    <tr>\n",
       "      <th>1599993</th>\n",
       "      <td>1</td>\n",
       "      <td>2193579489</td>\n",
       "      <td>Tue Jun 16 08:39:00 PDT 2009</td>\n",
       "      <td>NO_QUERY</td>\n",
       "      <td>EvolveTom</td>\n",
       "      <td>@Cliff_Forster Yeah, that does work better tha...</td>\n",
       "    </tr>\n",
       "    <tr>\n",
       "      <th>1599994</th>\n",
       "      <td>1</td>\n",
       "      <td>2193601966</td>\n",
       "      <td>Tue Jun 16 08:40:49 PDT 2009</td>\n",
       "      <td>NO_QUERY</td>\n",
       "      <td>AmandaMarie1028</td>\n",
       "      <td>Just woke up. Having no school is the best fee...</td>\n",
       "    </tr>\n",
       "    <tr>\n",
       "      <th>1599995</th>\n",
       "      <td>1</td>\n",
       "      <td>2193601969</td>\n",
       "      <td>Tue Jun 16 08:40:49 PDT 2009</td>\n",
       "      <td>NO_QUERY</td>\n",
       "      <td>TheWDBoards</td>\n",
       "      <td>TheWDB.com - Very cool to hear old Walt interv...</td>\n",
       "    </tr>\n",
       "    <tr>\n",
       "      <th>1599996</th>\n",
       "      <td>1</td>\n",
       "      <td>2193601991</td>\n",
       "      <td>Tue Jun 16 08:40:49 PDT 2009</td>\n",
       "      <td>NO_QUERY</td>\n",
       "      <td>bpbabe</td>\n",
       "      <td>Are you ready for your MoJo Makeover? Ask me f...</td>\n",
       "    </tr>\n",
       "    <tr>\n",
       "      <th>1599997</th>\n",
       "      <td>1</td>\n",
       "      <td>2193602064</td>\n",
       "      <td>Tue Jun 16 08:40:49 PDT 2009</td>\n",
       "      <td>NO_QUERY</td>\n",
       "      <td>tinydiamondz</td>\n",
       "      <td>Happy 38th Birthday to my boo of alll time!!! ...</td>\n",
       "    </tr>\n",
       "  </tbody>\n",
       "</table>\n",
       "</div>"
      ],
      "text/plain": [
       "         Target          ID                          Time     Query  \\\n",
       "1599993       1  2193579489  Tue Jun 16 08:39:00 PDT 2009  NO_QUERY   \n",
       "1599994       1  2193601966  Tue Jun 16 08:40:49 PDT 2009  NO_QUERY   \n",
       "1599995       1  2193601969  Tue Jun 16 08:40:49 PDT 2009  NO_QUERY   \n",
       "1599996       1  2193601991  Tue Jun 16 08:40:49 PDT 2009  NO_QUERY   \n",
       "1599997       1  2193602064  Tue Jun 16 08:40:49 PDT 2009  NO_QUERY   \n",
       "\n",
       "                    User                                              Tweet  \n",
       "1599993        EvolveTom  @Cliff_Forster Yeah, that does work better tha...  \n",
       "1599994  AmandaMarie1028  Just woke up. Having no school is the best fee...  \n",
       "1599995      TheWDBoards  TheWDB.com - Very cool to hear old Walt interv...  \n",
       "1599996           bpbabe  Are you ready for your MoJo Makeover? Ask me f...  \n",
       "1599997     tinydiamondz  Happy 38th Birthday to my boo of alll time!!! ...  "
      ]
     },
     "execution_count": 10,
     "metadata": {},
     "output_type": "execute_result"
    }
   ],
   "source": [
    "test_df.tail()"
   ]
  },
  {
   "cell_type": "code",
   "execution_count": 11,
   "metadata": {},
   "outputs": [],
   "source": [
    "file_to = \"../data/test_raw_data/test_raw_data.csv\"\n",
    "test_df.to_csv(file_to, index=False)"
   ]
  },
  {
   "cell_type": "code",
   "execution_count": 12,
   "metadata": {},
   "outputs": [
    {
     "name": "stdout",
     "output_type": "stream",
     "text": [
      "{'id': '1386aabf-781a-463f-b28c-5550834732c8', 'source': 'unknown', 'text': \"is upset that he can't update his Facebook by texting it... and might cry as a result  School today also. Blah!\", 'clean_text': \"is upset that he can't update his facebook by texting it... and might cry as a result school today also. blah!\", 'lang': 'en', 'sentiment': None, 'label': None, 'timestamp': '2025-09-19T13:00:36Z', 'metadata': {}}\n"
     ]
    }
   ],
   "source": [
    "print(preprocess_record(test_df['Tweet'][0]))"
   ]
  },
  {
   "cell_type": "code",
   "execution_count": null,
   "id": "e12dc9d4",
   "metadata": {},
   "outputs": [],
   "source": []
  },
  {
   "cell_type": "code",
   "execution_count": null,
   "metadata": {},
   "outputs": [],
   "source": []
  },
  {
   "cell_type": "code",
   "execution_count": null,
   "metadata": {},
   "outputs": [],
   "source": []
  }
 ],
 "metadata": {
  "kernelspec": {
   "display_name": ".venv",
   "language": "python",
   "name": "python3"
  },
  "language_info": {
   "codemirror_mode": {
    "name": "ipython",
    "version": 3
   },
   "file_extension": ".py",
   "mimetype": "text/x-python",
   "name": "python",
   "nbconvert_exporter": "python",
   "pygments_lexer": "ipython3",
   "version": "3.13.7"
  }
 },
 "nbformat": 4,
 "nbformat_minor": 5
}
